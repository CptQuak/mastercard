{
 "cells": [
  {
   "cell_type": "code",
   "execution_count": 1,
   "id": "ea718fc3",
   "metadata": {},
   "outputs": [],
   "source": [
    "import matplotlib.pyplot as plt\n",
    "import polars as pl\n",
    "\n",
    "import numpy as np\n",
    "import pandas as pd\n",
    "\n",
    "import polars as pl\n",
    "import seaborn as sns\n",
    "\n",
    "%reload_ext autoreload\n",
    "%autoreload 2"
   ]
  },
  {
   "cell_type": "code",
   "execution_count": 2,
   "id": "40ccc99e",
   "metadata": {},
   "outputs": [],
   "source": [
    "df_train = pl.read_parquet('../experiments/datasets/master_card_basic/train.parquet')\n",
    "df_test = pl.read_parquet('../experiments/datasets/master_card_basic/test.parquet')"
   ]
  },
  {
   "cell_type": "code",
   "execution_count": 23,
   "id": "e2db9fd7",
   "metadata": {},
   "outputs": [],
   "source": [
    "from sklearn.ensemble import IsolationForest\n",
    "\n",
    "\n",
    "target = ['is_fraud']\n",
    "X_feautures = ['amount', 'channel', 'currency', 'device']\n",
    "categorical_columns = ['channel', 'currency', 'device']\n",
    "\n",
    "X_train, y_train = df_train[X_feautures], df_train[target]\n",
    "X_train = X_train.with_columns(pl.col(c).to_physical() for c in categorical_columns)\n",
    "\n",
    "X_test, y_test = df_test[X_feautures], df_test[target]\n",
    "X_test = X_test.with_columns(pl.col(c).to_physical() for c in categorical_columns)\n",
    "\n",
    "model = IsolationForest().fit(X_train, y_train)"
   ]
  },
  {
   "cell_type": "code",
   "execution_count": 28,
   "id": "e7a389a1",
   "metadata": {},
   "outputs": [
    {
     "data": {
      "text/plain": [
       "array([1, 0, 1, ..., 1, 1, 1], shape=(83258,))"
      ]
     },
     "execution_count": 28,
     "metadata": {},
     "output_type": "execute_result"
    }
   ],
   "source": [
    "y_hat = model.predict(X_test)\n",
    "y_hat = np.where(y_hat == -1, 1, 0)\n",
    "y_hat"
   ]
  },
  {
   "cell_type": "code",
   "execution_count": null,
   "id": "4e1f99ff",
   "metadata": {},
   "outputs": [
    {
     "data": {
      "text/plain": [
       "{'accuracy': 0.32716375603545605,\n",
       " 'auc': np.float64(0.5009476544357988),\n",
       " 'f1_score': 0.1545960792599188,\n",
       " 'average_precision': np.float64(0.0866643597391846)}"
      ]
     },
     "execution_count": 29,
     "metadata": {},
     "output_type": "execute_result"
    }
   ],
   "source": [
    "from sklearn.metrics import accuracy_score, average_precision_score, f1_score, precision_score, recall_score, roc_auc_score\n",
    "\n",
    "\n",
    "{\n",
    "    \"accuracy\": accuracy_score(y_test, y_hat),\n",
    "    \"auc\": roc_auc_score(y_test, y_hat),\n",
    "    \"f1_score\": f1_score(y_test, y_hat),\n",
    "    'average_precision': average_precision_score(y_test, y_hat),\n",
    "}\n"
   ]
  }
 ],
 "metadata": {
  "kernelspec": {
   "display_name": ".venv",
   "language": "python",
   "name": "python3"
  },
  "language_info": {
   "codemirror_mode": {
    "name": "ipython",
    "version": 3
   },
   "file_extension": ".py",
   "mimetype": "text/x-python",
   "name": "python",
   "nbconvert_exporter": "python",
   "pygments_lexer": "ipython3",
   "version": "3.10.14"
  }
 },
 "nbformat": 4,
 "nbformat_minor": 5
}
